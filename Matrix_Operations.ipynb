{
 "cells": [
  {
   "cell_type": "markdown",
   "id": "d17ed344-e23b-4f3c-8e5f-90765f23ccf2",
   "metadata": {},
   "source": [
    "##  Common Matrix Operations "
   ]
  },
  {
   "cell_type": "code",
   "execution_count": 1,
   "id": "5d1ad2a3-298e-4be7-b30d-57f0c208b4a7",
   "metadata": {},
   "outputs": [],
   "source": [
    "import numpy as np"
   ]
  },
  {
   "cell_type": "code",
   "execution_count": 4,
   "id": "c5d5e0b5-6eb9-438b-ba44-d0b4ac1f26fb",
   "metadata": {},
   "outputs": [],
   "source": [
    "#make matrix \n",
    "m=[[1,2,3],\n",
    "   [4,5,6],\n",
    "   [7,8,9]]\n",
    "\n",
    "matrix=np.array(m)"
   ]
  },
  {
   "cell_type": "code",
   "execution_count": 25,
   "id": "022782ad-cef3-4770-b39a-d93c02115314",
   "metadata": {},
   "outputs": [
    {
     "name": "stdout",
     "output_type": "stream",
     "text": [
      "Eigen Values\n",
      " [ 1.61168440e+01 -1.11684397e+00 -1.30367773e-15]\n",
      "Eigen Vectors\n",
      " [[-0.23197069 -0.78583024  0.40824829]\n",
      " [-0.52532209 -0.08675134 -0.81649658]\n",
      " [-0.8186735   0.61232756  0.40824829]]\n"
     ]
    }
   ],
   "source": [
    "#eigen value\n",
    "eigen_vals,eigen_vecs=np.linalg.eig(matrix)\n",
    "print(\"Eigen Values\\n\",eigen_vals)\n",
    "print(\"Eigen Vectors\\n\",eigen_vecs)"
   ]
  },
  {
   "cell_type": "code",
   "execution_count": 35,
   "id": "525f5c70-87d5-435d-bdb6-12a36bfc836f",
   "metadata": {},
   "outputs": [
    {
     "name": "stdout",
     "output_type": "stream",
     "text": [
      "Transpose\n",
      " [[1 4 7]\n",
      " [2 5 8]\n",
      " [3 6 9]]\n"
     ]
    }
   ],
   "source": [
    "#transpose\n",
    "trans=np.matrix.transpose(matrix)\n",
    "print(\"Transpose\\n\",trans)"
   ]
  },
  {
   "cell_type": "code",
   "execution_count": 34,
   "id": "c802a7bb-f235-4ad8-a752-5e7a0477c00d",
   "metadata": {},
   "outputs": [
    {
     "ename": "LinAlgError",
     "evalue": "Singular matrix",
     "output_type": "error",
     "traceback": [
      "\u001b[0;31m---------------------------------------------------------------------------\u001b[0m",
      "\u001b[0;31mLinAlgError\u001b[0m                               Traceback (most recent call last)",
      "Cell \u001b[0;32mIn[34], line 2\u001b[0m\n\u001b[1;32m      1\u001b[0m \u001b[38;5;66;03m#inverse\u001b[39;00m\n\u001b[0;32m----> 2\u001b[0m inverse\u001b[38;5;241m=\u001b[39m\u001b[43mnp\u001b[49m\u001b[38;5;241;43m.\u001b[39;49m\u001b[43mlinalg\u001b[49m\u001b[38;5;241;43m.\u001b[39;49m\u001b[43minv\u001b[49m\u001b[43m(\u001b[49m\u001b[43mmatrix\u001b[49m\u001b[43m)\u001b[49m\n",
      "File \u001b[0;32m~/.local/lib/python3.9/site-packages/numpy/linalg/linalg.py:561\u001b[0m, in \u001b[0;36minv\u001b[0;34m(a)\u001b[0m\n\u001b[1;32m    559\u001b[0m signature \u001b[38;5;241m=\u001b[39m \u001b[38;5;124m'\u001b[39m\u001b[38;5;124mD->D\u001b[39m\u001b[38;5;124m'\u001b[39m \u001b[38;5;28;01mif\u001b[39;00m isComplexType(t) \u001b[38;5;28;01melse\u001b[39;00m \u001b[38;5;124m'\u001b[39m\u001b[38;5;124md->d\u001b[39m\u001b[38;5;124m'\u001b[39m\n\u001b[1;32m    560\u001b[0m extobj \u001b[38;5;241m=\u001b[39m get_linalg_error_extobj(_raise_linalgerror_singular)\n\u001b[0;32m--> 561\u001b[0m ainv \u001b[38;5;241m=\u001b[39m \u001b[43m_umath_linalg\u001b[49m\u001b[38;5;241;43m.\u001b[39;49m\u001b[43minv\u001b[49m\u001b[43m(\u001b[49m\u001b[43ma\u001b[49m\u001b[43m,\u001b[49m\u001b[43m \u001b[49m\u001b[43msignature\u001b[49m\u001b[38;5;241;43m=\u001b[39;49m\u001b[43msignature\u001b[49m\u001b[43m,\u001b[49m\u001b[43m \u001b[49m\u001b[43mextobj\u001b[49m\u001b[38;5;241;43m=\u001b[39;49m\u001b[43mextobj\u001b[49m\u001b[43m)\u001b[49m\n\u001b[1;32m    562\u001b[0m \u001b[38;5;28;01mreturn\u001b[39;00m wrap(ainv\u001b[38;5;241m.\u001b[39mastype(result_t, copy\u001b[38;5;241m=\u001b[39m\u001b[38;5;28;01mFalse\u001b[39;00m))\n",
      "File \u001b[0;32m~/.local/lib/python3.9/site-packages/numpy/linalg/linalg.py:112\u001b[0m, in \u001b[0;36m_raise_linalgerror_singular\u001b[0;34m(err, flag)\u001b[0m\n\u001b[1;32m    111\u001b[0m \u001b[38;5;28;01mdef\u001b[39;00m \u001b[38;5;21m_raise_linalgerror_singular\u001b[39m(err, flag):\n\u001b[0;32m--> 112\u001b[0m     \u001b[38;5;28;01mraise\u001b[39;00m LinAlgError(\u001b[38;5;124m\"\u001b[39m\u001b[38;5;124mSingular matrix\u001b[39m\u001b[38;5;124m\"\u001b[39m)\n",
      "\u001b[0;31mLinAlgError\u001b[0m: Singular matrix"
     ]
    }
   ],
   "source": [
    "#inverse\n",
    "inverse=np.linalg.inv(matrix)"
   ]
  },
  {
   "cell_type": "markdown",
   "id": "face80f1-304a-49f6-b2f2-b300cca56d19",
   "metadata": {},
   "source": [
    "#### Singular Matrix gives an error as it has a zero determinant"
   ]
  },
  {
   "cell_type": "code",
   "execution_count": 37,
   "id": "8e36ba46-b887-4d44-b3a0-8228e53bc2f8",
   "metadata": {},
   "outputs": [
    {
     "name": "stdout",
     "output_type": "stream",
     "text": [
      "0.0\n"
     ]
    }
   ],
   "source": [
    "det_value=np.linalg.det(matrix)\n",
    "print (det_value)"
   ]
  },
  {
   "cell_type": "markdown",
   "id": "7bd0e772-3017-4872-a41a-c84e9131824a",
   "metadata": {},
   "source": [
    "#### Lets determine another matrix"
   ]
  },
  {
   "cell_type": "code",
   "execution_count": 38,
   "id": "ca729d03-0e0e-4edd-ad80-a8a043e8f182",
   "metadata": {},
   "outputs": [],
   "source": [
    "matrix_2=[[3,2,1],[2,2,1],[1,1,4]]\n",
    "matrix_2=np.matrix(matrix_2)"
   ]
  },
  {
   "cell_type": "code",
   "execution_count": 41,
   "id": "66de4e96-7c08-427e-8e2e-963e7793d244",
   "metadata": {},
   "outputs": [
    {
     "name": "stdout",
     "output_type": "stream",
     "text": [
      "7.000000000000001\n"
     ]
    }
   ],
   "source": [
    "print(np.linalg.det(matrix_2))"
   ]
  },
  {
   "cell_type": "markdown",
   "id": "6ff28e09-781b-4bc9-85bc-842ac6bdf63b",
   "metadata": {},
   "source": [
    "#### Non-Zero Determinant !!!\n",
    "#### So we can go for inverse"
   ]
  },
  {
   "cell_type": "code",
   "execution_count": 43,
   "id": "de0613bb-5a32-4d26-aba1-0f2fc7f29bad",
   "metadata": {},
   "outputs": [
    {
     "name": "stdout",
     "output_type": "stream",
     "text": [
      "[[ 1.         -1.          0.        ]\n",
      " [-1.          1.57142857 -0.14285714]\n",
      " [ 0.         -0.14285714  0.28571429]]\n"
     ]
    }
   ],
   "source": [
    "inverse=np.linalg.inv(matrix_2)\n",
    "print(inverse)"
   ]
  },
  {
   "cell_type": "code",
   "execution_count": null,
   "id": "39c38cdd-ffa8-4a21-b260-8be87be58ada",
   "metadata": {},
   "outputs": [],
   "source": []
  }
 ],
 "metadata": {
  "kernelspec": {
   "display_name": "Python 3 (ipykernel)",
   "language": "python",
   "name": "python3"
  },
  "language_info": {
   "codemirror_mode": {
    "name": "ipython",
    "version": 3
   },
   "file_extension": ".py",
   "mimetype": "text/x-python",
   "name": "python",
   "nbconvert_exporter": "python",
   "pygments_lexer": "ipython3",
   "version": "3.9.18"
  }
 },
 "nbformat": 4,
 "nbformat_minor": 5
}
